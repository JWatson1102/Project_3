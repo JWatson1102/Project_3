{
 "cells": [
  {
   "cell_type": "code",
   "execution_count": 2,
   "metadata": {},
   "outputs": [],
   "source": [
    "import sqlite3\n",
    "import pandas as pd\n",
    "# import config\n",
    "\n",
    "conn = sqlite3.connect(f'lat_and_lon.sqlite')\n",
    "\n",
    "cursor = conn.cursor()\n",
    "\n",
    "#1) need to read the csv files using pandas into dataframes\n",
    "haunted_df = pd.read_csv('cleandf.csv')\n",
    "ufo_df = pd.read_csv('UFO_data.csv')\n",
    "bigfoot_df = pd.read_csv('cleaned_bigfoot.csv')"
   ]
  },
  {
   "cell_type": "code",
   "execution_count": 6,
   "metadata": {},
   "outputs": [
    {
     "data": {
      "text/plain": [
       "pandas.core.frame.DataFrame"
      ]
     },
     "execution_count": 6,
     "metadata": {},
     "output_type": "execute_result"
    }
   ],
   "source": [
    "type(ufo_df)"
   ]
  },
  {
   "cell_type": "code",
   "execution_count": 7,
   "metadata": {},
   "outputs": [
    {
     "data": {
      "text/plain": [
       "pandas.core.frame.DataFrame"
      ]
     },
     "execution_count": 7,
     "metadata": {},
     "output_type": "execute_result"
    }
   ],
   "source": [
    "type(ufo_df.head(50000))"
   ]
  }
 ],
 "metadata": {
  "interpreter": {
   "hash": "8df4313e2f5fe811950a2aba1a35e3393e3ece78fd7c8992ec49ad34c2d2d6f1"
  },
  "kernelspec": {
   "display_name": "Python 3.6.10 ('PythonData')",
   "language": "python",
   "name": "python3"
  },
  "language_info": {
   "codemirror_mode": {
    "name": "ipython",
    "version": 3
   },
   "file_extension": ".py",
   "mimetype": "text/x-python",
   "name": "python",
   "nbconvert_exporter": "python",
   "pygments_lexer": "ipython3",
   "version": "3.6.10"
  },
  "orig_nbformat": 4
 },
 "nbformat": 4,
 "nbformat_minor": 2
}
